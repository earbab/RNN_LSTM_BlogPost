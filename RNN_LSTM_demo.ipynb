{
 "cells": [
  {
   "cell_type": "code",
   "execution_count": 1,
   "id": "fcce9932",
   "metadata": {},
   "outputs": [
    {
     "name": "stderr",
     "output_type": "stream",
     "text": [
      "2023-12-20 11:44:02.758282: I tensorflow/core/platform/cpu_feature_guard.cc:182] This TensorFlow binary is optimized to use available CPU instructions in performance-critical operations.\n",
      "To enable the following instructions: AVX2 FMA, in other operations, rebuild TensorFlow with the appropriate compiler flags.\n"
     ]
    }
   ],
   "source": [
    "import pandas as pd\n",
    "import numpy as np\n",
    "import string\n",
    "import os\n",
    "import gensim\n",
    "import keras\n",
    "from nltk.tokenize import word_tokenize\n",
    "from nltk.corpus import stopwords\n",
    "from keras.preprocessing.text import Tokenizer\n",
    "from keras.models import Sequential\n",
    "from keras.layers import Dense, Dropout, Embedding, LSTM\n",
    "from keras.initializers import Constant\n",
    "from keras.callbacks import ModelCheckpoint"
   ]
  },
  {
   "cell_type": "code",
   "execution_count": 2,
   "id": "d2528ece",
   "metadata": {},
   "outputs": [],
   "source": [
    "# data source: https://www.kaggle.com/datasets/adhok93/presidentialaddress/\n",
    "\n",
    "df_speech = pd.read_csv('./inaug_speeches.csv', encoding= 'latin1')\n",
    "df_speech = df_speech.drop(columns = \"Unnamed: 0\")\n"
   ]
  },
  {
   "cell_type": "code",
   "execution_count": 3,
   "id": "85c96313",
   "metadata": {},
   "outputs": [],
   "source": [
    "# Clean Data\n",
    "\n",
    "speech_lines = list()\n",
    "lines = df_speech[\"text\"].values.tolist()\n",
    "\n",
    "for line in lines:\n",
    "    tokens = word_tokenize(line)\n",
    "\n",
    "    # convert to lower case\n",
    "    tokens = [w.lower() for w in tokens]\n",
    "\n",
    "    # remove punctuation from each word\n",
    "    table = str.maketrans(\"\", \"\", string.punctuation)\n",
    "    stripped = [w.translate(table) for w in tokens]\n",
    "\n",
    "    # remove remaining tokens that are not alphabetic\n",
    "    words = [w for w in stripped if w.isalpha()]\n",
    "\n",
    "    speech_lines.append(words)\n"
   ]
  },
  {
   "cell_type": "code",
   "execution_count": 4,
   "id": "1567867d",
   "metadata": {},
   "outputs": [],
   "source": [
    "# Trun words into Word-2-Vec Embeddings\n",
    "EMBEDDING_DIM = 20\n",
    "model = gensim.models.Word2Vec(sentences=speech_lines, \n",
    "                               vector_size= EMBEDDING_DIM, \n",
    "                               window=5, workers=2, min_count=1)\n",
    "\n",
    "# vocab size\n",
    "words = list(model.wv.key_to_index)"
   ]
  },
  {
   "cell_type": "code",
   "execution_count": 5,
   "id": "e93f88a1",
   "metadata": {},
   "outputs": [],
   "source": [
    "file_name = \"inaug_speech_word2vec.txt\"\n",
    "model.wv.save_word2vec_format(file_name, binary=False)"
   ]
  },
  {
   "cell_type": "code",
   "execution_count": 6,
   "id": "ebfe5bfb",
   "metadata": {},
   "outputs": [],
   "source": [
    "embeddings_index = {}\n",
    "\n",
    "f = open(os.path.join(\"\", \"inaug_speech_word2vec.txt\"), encoding=\"utf-8\")\n",
    "for line in f:\n",
    "    values = line.split()\n",
    "    word = values[0]\n",
    "    coefs = np.array(values[1:])\n",
    "    embeddings_index[word]=coefs\n",
    "    \n",
    "f.close()"
   ]
  },
  {
   "cell_type": "code",
   "execution_count": 7,
   "id": "d2cf129a",
   "metadata": {},
   "outputs": [],
   "source": [
    "tokenizer_obj = Tokenizer()\n",
    "tokenizer_obj.fit_on_texts(speech_lines)\n",
    "\n",
    "# create word index dict\n",
    "word_index = tokenizer_obj.word_index\n",
    "\n",
    "# vocab\n",
    "vocab_size = len(tokenizer_obj.word_index) + 1\n",
    "\n",
    "# tokenize \n",
    "speech_tokens = tokenizer_obj.texts_to_sequences(speech_lines)"
   ]
  },
  {
   "cell_type": "code",
   "execution_count": 8,
   "id": "86d829f5",
   "metadata": {},
   "outputs": [],
   "source": [
    "# map embeddings from word2vec model for each word\n",
    "num_words = len(word_index) + 1\n",
    "embedding_matrix = np.zeros((num_words, EMBEDDING_DIM))\n",
    "\n",
    "for word, i in word_index.items():\n",
    "    if i > num_words:\n",
    "        continue\n",
    "    embedding_vector = embeddings_index.get(word)\n",
    "    if embedding_vector is not None: \n",
    "        embedding_matrix[i] = embedding_vector"
   ]
  },
  {
   "cell_type": "code",
   "execution_count": 9,
   "id": "9f72903b",
   "metadata": {},
   "outputs": [],
   "source": [
    "# Prepare Train and Test DataSets\n",
    "\n",
    "seq_len = 10\n",
    "dataX=[]\n",
    "dataY=[]\n",
    "\n",
    "for i in range(len(speech_tokens)): \n",
    "    for j in range(0, len(speech_tokens[i])-seq_len, 1): \n",
    "        seq_in = speech_tokens[i][j:j+seq_len]\n",
    "        seq_out = speech_tokens[i][j+seq_len]\n",
    "        dataX.append(seq_in)\n",
    "        dataY.append(seq_out)\n",
    "        \n",
    "# Reshape and Create Sparse Matrix\n",
    "X = np.reshape(dataX, (len(dataX), seq_len, 1))\n",
    "y = keras.utils.to_categorical(dataY)"
   ]
  },
  {
   "cell_type": "code",
   "execution_count": 10,
   "id": "2b757e21",
   "metadata": {},
   "outputs": [
    {
     "name": "stderr",
     "output_type": "stream",
     "text": [
      "2023-12-20 11:44:18.821021: I tensorflow/core/common_runtime/executor.cc:1197] [/device:CPU:0] (DEBUG INFO) Executor start aborting (this does not indicate an error and you can ignore this message): INVALID_ARGUMENT: You must feed a value for placeholder tensor 'gradients/split_2_grad/concat/split_2/split_dim' with dtype int32\n",
      "\t [[{{node gradients/split_2_grad/concat/split_2/split_dim}}]]\n",
      "2023-12-20 11:44:18.823232: I tensorflow/core/common_runtime/executor.cc:1197] [/device:CPU:0] (DEBUG INFO) Executor start aborting (this does not indicate an error and you can ignore this message): INVALID_ARGUMENT: You must feed a value for placeholder tensor 'gradients/split_grad/concat/split/split_dim' with dtype int32\n",
      "\t [[{{node gradients/split_grad/concat/split/split_dim}}]]\n",
      "2023-12-20 11:44:18.824774: I tensorflow/core/common_runtime/executor.cc:1197] [/device:CPU:0] (DEBUG INFO) Executor start aborting (this does not indicate an error and you can ignore this message): INVALID_ARGUMENT: You must feed a value for placeholder tensor 'gradients/split_1_grad/concat/split_1/split_dim' with dtype int32\n",
      "\t [[{{node gradients/split_1_grad/concat/split_1/split_dim}}]]\n"
     ]
    },
    {
     "name": "stdout",
     "output_type": "stream",
     "text": [
      "Model: \"sequential\"\n",
      "_________________________________________________________________\n",
      " Layer (type)                Output Shape              Param #   \n",
      "=================================================================\n",
      " embedding (Embedding)       (None, 10, 20)            185440    \n",
      "                                                                 \n",
      " lstm (LSTM)                 (None, 10, 256)           283648    \n",
      "                                                                 \n",
      " dropout (Dropout)           (None, 10, 256)           0         \n",
      "                                                                 \n",
      " lstm_1 (LSTM)               (None, 256)               525312    \n",
      "                                                                 \n",
      " dropout_1 (Dropout)         (None, 256)               0         \n",
      "                                                                 \n",
      " dense (Dense)               (None, 9272)              2382904   \n",
      "                                                                 \n",
      "=================================================================\n",
      "Total params: 3,377,304\n",
      "Trainable params: 3,191,864\n",
      "Non-trainable params: 185,440\n",
      "_________________________________________________________________\n",
      "None\n"
     ]
    },
    {
     "name": "stderr",
     "output_type": "stream",
     "text": [
      "2023-12-20 11:44:19.051069: I tensorflow/core/common_runtime/executor.cc:1197] [/device:CPU:0] (DEBUG INFO) Executor start aborting (this does not indicate an error and you can ignore this message): INVALID_ARGUMENT: You must feed a value for placeholder tensor 'gradients/split_2_grad/concat/split_2/split_dim' with dtype int32\n",
      "\t [[{{node gradients/split_2_grad/concat/split_2/split_dim}}]]\n",
      "2023-12-20 11:44:19.053120: I tensorflow/core/common_runtime/executor.cc:1197] [/device:CPU:0] (DEBUG INFO) Executor start aborting (this does not indicate an error and you can ignore this message): INVALID_ARGUMENT: You must feed a value for placeholder tensor 'gradients/split_grad/concat/split/split_dim' with dtype int32\n",
      "\t [[{{node gradients/split_grad/concat/split/split_dim}}]]\n",
      "2023-12-20 11:44:19.054414: I tensorflow/core/common_runtime/executor.cc:1197] [/device:CPU:0] (DEBUG INFO) Executor start aborting (this does not indicate an error and you can ignore this message): INVALID_ARGUMENT: You must feed a value for placeholder tensor 'gradients/split_1_grad/concat/split_1/split_dim' with dtype int32\n",
      "\t [[{{node gradients/split_1_grad/concat/split_1/split_dim}}]]\n"
     ]
    }
   ],
   "source": [
    "# Build RNN Model\n",
    "\n",
    "model = Sequential()\n",
    "embedding_layer = Embedding(num_words, \n",
    "                           EMBEDDING_DIM, \n",
    "                           weights = [embedding_matrix], \n",
    "                           input_length = seq_len, \n",
    "                           trainable = False)\n",
    "model.add(embedding_layer)\n",
    "model.add(LSTM(256, input_shape = (X.shape[1], X.shape[2]), \n",
    "               return_sequences=True))\n",
    "model.add(Dropout(0.2))\n",
    "model.add(LSTM(256))\n",
    "model.add(Dropout(0.2))\n",
    "model.add(Dense(y.shape[1], activation=\"softmax\"))\n",
    "model.compile(loss=\"categorical_crossentropy\", optimizer=\"adam\")\n",
    "\n",
    "print(model.summary())"
   ]
  },
  {
   "cell_type": "code",
   "execution_count": 11,
   "id": "4868970d",
   "metadata": {},
   "outputs": [],
   "source": [
    "filepath = \"weights.hdf5\"\n",
    "checkpoint = ModelCheckpoint(filepath, monitor=\"loss\", verbose=1, save_best_only=True, mode=\"min\")\n",
    "callbacks_list = [checkpoint]"
   ]
  },
  {
   "cell_type": "code",
   "execution_count": 12,
   "id": "e59205e4",
   "metadata": {
    "scrolled": true
   },
   "outputs": [
    {
     "name": "stdout",
     "output_type": "stream",
     "text": [
      "Epoch 1/20\n"
     ]
    },
    {
     "name": "stderr",
     "output_type": "stream",
     "text": [
      "2023-12-20 11:44:19.496323: I tensorflow/core/common_runtime/executor.cc:1197] [/device:CPU:0] (DEBUG INFO) Executor start aborting (this does not indicate an error and you can ignore this message): INVALID_ARGUMENT: You must feed a value for placeholder tensor 'gradients/split_2_grad/concat/split_2/split_dim' with dtype int32\n",
      "\t [[{{node gradients/split_2_grad/concat/split_2/split_dim}}]]\n",
      "2023-12-20 11:44:19.498285: I tensorflow/core/common_runtime/executor.cc:1197] [/device:CPU:0] (DEBUG INFO) Executor start aborting (this does not indicate an error and you can ignore this message): INVALID_ARGUMENT: You must feed a value for placeholder tensor 'gradients/split_grad/concat/split/split_dim' with dtype int32\n",
      "\t [[{{node gradients/split_grad/concat/split/split_dim}}]]\n",
      "2023-12-20 11:44:19.499602: I tensorflow/core/common_runtime/executor.cc:1197] [/device:CPU:0] (DEBUG INFO) Executor start aborting (this does not indicate an error and you can ignore this message): INVALID_ARGUMENT: You must feed a value for placeholder tensor 'gradients/split_1_grad/concat/split_1/split_dim' with dtype int32\n",
      "\t [[{{node gradients/split_1_grad/concat/split_1/split_dim}}]]\n",
      "2023-12-20 11:44:19.709365: I tensorflow/core/common_runtime/executor.cc:1197] [/device:CPU:0] (DEBUG INFO) Executor start aborting (this does not indicate an error and you can ignore this message): INVALID_ARGUMENT: You must feed a value for placeholder tensor 'gradients/split_2_grad/concat/split_2/split_dim' with dtype int32\n",
      "\t [[{{node gradients/split_2_grad/concat/split_2/split_dim}}]]\n",
      "2023-12-20 11:44:19.711523: I tensorflow/core/common_runtime/executor.cc:1197] [/device:CPU:0] (DEBUG INFO) Executor start aborting (this does not indicate an error and you can ignore this message): INVALID_ARGUMENT: You must feed a value for placeholder tensor 'gradients/split_grad/concat/split/split_dim' with dtype int32\n",
      "\t [[{{node gradients/split_grad/concat/split/split_dim}}]]\n",
      "2023-12-20 11:44:19.713764: I tensorflow/core/common_runtime/executor.cc:1197] [/device:CPU:0] (DEBUG INFO) Executor start aborting (this does not indicate an error and you can ignore this message): INVALID_ARGUMENT: You must feed a value for placeholder tensor 'gradients/split_1_grad/concat/split_1/split_dim' with dtype int32\n",
      "\t [[{{node gradients/split_1_grad/concat/split_1/split_dim}}]]\n",
      "2023-12-20 11:44:20.816127: I tensorflow/core/common_runtime/executor.cc:1197] [/device:CPU:0] (DEBUG INFO) Executor start aborting (this does not indicate an error and you can ignore this message): INVALID_ARGUMENT: You must feed a value for placeholder tensor 'gradients/split_2_grad/concat/split_2/split_dim' with dtype int32\n",
      "\t [[{{node gradients/split_2_grad/concat/split_2/split_dim}}]]\n",
      "2023-12-20 11:44:20.818319: I tensorflow/core/common_runtime/executor.cc:1197] [/device:CPU:0] (DEBUG INFO) Executor start aborting (this does not indicate an error and you can ignore this message): INVALID_ARGUMENT: You must feed a value for placeholder tensor 'gradients/split_grad/concat/split/split_dim' with dtype int32\n",
      "\t [[{{node gradients/split_grad/concat/split/split_dim}}]]\n",
      "2023-12-20 11:44:20.819582: I tensorflow/core/common_runtime/executor.cc:1197] [/device:CPU:0] (DEBUG INFO) Executor start aborting (this does not indicate an error and you can ignore this message): INVALID_ARGUMENT: You must feed a value for placeholder tensor 'gradients/split_1_grad/concat/split_1/split_dim' with dtype int32\n",
      "\t [[{{node gradients/split_1_grad/concat/split_1/split_dim}}]]\n",
      "2023-12-20 11:44:21.012353: I tensorflow/core/common_runtime/executor.cc:1197] [/device:CPU:0] (DEBUG INFO) Executor start aborting (this does not indicate an error and you can ignore this message): INVALID_ARGUMENT: You must feed a value for placeholder tensor 'gradients/split_2_grad/concat/split_2/split_dim' with dtype int32\n",
      "\t [[{{node gradients/split_2_grad/concat/split_2/split_dim}}]]\n",
      "2023-12-20 11:44:21.015558: I tensorflow/core/common_runtime/executor.cc:1197] [/device:CPU:0] (DEBUG INFO) Executor start aborting (this does not indicate an error and you can ignore this message): INVALID_ARGUMENT: You must feed a value for placeholder tensor 'gradients/split_grad/concat/split/split_dim' with dtype int32\n",
      "\t [[{{node gradients/split_grad/concat/split/split_dim}}]]\n",
      "2023-12-20 11:44:21.017993: I tensorflow/core/common_runtime/executor.cc:1197] [/device:CPU:0] (DEBUG INFO) Executor start aborting (this does not indicate an error and you can ignore this message): INVALID_ARGUMENT: You must feed a value for placeholder tensor 'gradients/split_1_grad/concat/split_1/split_dim' with dtype int32\n",
      "\t [[{{node gradients/split_1_grad/concat/split_1/split_dim}}]]\n"
     ]
    },
    {
     "name": "stdout",
     "output_type": "stream",
     "text": [
      "1056/1056 [==============================] - ETA: 0s - loss: 6.4959\n",
      "Epoch 1: loss improved from inf to 6.49585, saving model to weights.hdf5\n",
      "1056/1056 [==============================] - 125s 115ms/step - loss: 6.4959\n",
      "Epoch 2/20\n",
      "1056/1056 [==============================] - ETA: 0s - loss: 6.1132\n",
      "Epoch 2: loss improved from 6.49585 to 6.11325, saving model to weights.hdf5\n",
      "1056/1056 [==============================] - 119s 113ms/step - loss: 6.1132\n",
      "Epoch 3/20\n",
      "1056/1056 [==============================] - ETA: 0s - loss: 5.9453\n",
      "Epoch 3: loss improved from 6.11325 to 5.94534, saving model to weights.hdf5\n",
      "1056/1056 [==============================] - 115s 109ms/step - loss: 5.9453\n",
      "Epoch 4/20\n",
      "1056/1056 [==============================] - ETA: 0s - loss: 5.8318\n",
      "Epoch 4: loss improved from 5.94534 to 5.83179, saving model to weights.hdf5\n",
      "1056/1056 [==============================] - 114s 108ms/step - loss: 5.8318\n",
      "Epoch 5/20\n",
      "1056/1056 [==============================] - ETA: 0s - loss: 5.7381\n",
      "Epoch 5: loss improved from 5.83179 to 5.73815, saving model to weights.hdf5\n",
      "1056/1056 [==============================] - 114s 108ms/step - loss: 5.7381\n",
      "Epoch 6/20\n",
      "1056/1056 [==============================] - ETA: 0s - loss: 5.6451\n",
      "Epoch 6: loss improved from 5.73815 to 5.64512, saving model to weights.hdf5\n",
      "1056/1056 [==============================] - 712s 675ms/step - loss: 5.6451\n",
      "Epoch 7/20\n",
      "1056/1056 [==============================] - ETA: 0s - loss: 5.5501\n",
      "Epoch 7: loss improved from 5.64512 to 5.55011, saving model to weights.hdf5\n",
      "1056/1056 [==============================] - 124s 118ms/step - loss: 5.5501\n",
      "Epoch 8/20\n",
      "1056/1056 [==============================] - ETA: 0s - loss: 5.4472\n",
      "Epoch 8: loss improved from 5.55011 to 5.44724, saving model to weights.hdf5\n",
      "1056/1056 [==============================] - 121s 114ms/step - loss: 5.4472\n",
      "Epoch 9/20\n",
      "1056/1056 [==============================] - ETA: 0s - loss: 5.3442\n",
      "Epoch 9: loss improved from 5.44724 to 5.34418, saving model to weights.hdf5\n",
      "1056/1056 [==============================] - 123s 117ms/step - loss: 5.3442\n",
      "Epoch 10/20\n",
      "1056/1056 [==============================] - ETA: 0s - loss: 5.2425\n",
      "Epoch 10: loss improved from 5.34418 to 5.24255, saving model to weights.hdf5\n",
      "1056/1056 [==============================] - 113s 107ms/step - loss: 5.2425\n",
      "Epoch 11/20\n",
      "1056/1056 [==============================] - ETA: 0s - loss: 5.1449\n",
      "Epoch 11: loss improved from 5.24255 to 5.14487, saving model to weights.hdf5\n",
      "1056/1056 [==============================] - 114s 108ms/step - loss: 5.1449\n",
      "Epoch 12/20\n",
      "1056/1056 [==============================] - ETA: 0s - loss: 5.0509\n",
      "Epoch 12: loss improved from 5.14487 to 5.05093, saving model to weights.hdf5\n",
      "1056/1056 [==============================] - 114s 108ms/step - loss: 5.0509\n",
      "Epoch 13/20\n",
      "1056/1056 [==============================] - ETA: 0s - loss: 4.9656\n",
      "Epoch 13: loss improved from 5.05093 to 4.96557, saving model to weights.hdf5\n",
      "1056/1056 [==============================] - 117s 111ms/step - loss: 4.9656\n",
      "Epoch 14/20\n",
      "1056/1056 [==============================] - ETA: 0s - loss: 4.8789\n",
      "Epoch 14: loss improved from 4.96557 to 4.87885, saving model to weights.hdf5\n",
      "1056/1056 [==============================] - 114s 108ms/step - loss: 4.8789\n",
      "Epoch 15/20\n",
      "1056/1056 [==============================] - ETA: 0s - loss: 4.8031\n",
      "Epoch 15: loss improved from 4.87885 to 4.80312, saving model to weights.hdf5\n",
      "1056/1056 [==============================] - 114s 108ms/step - loss: 4.8031\n",
      "Epoch 16/20\n",
      "1056/1056 [==============================] - ETA: 0s - loss: 4.7284\n",
      "Epoch 16: loss improved from 4.80312 to 4.72844, saving model to weights.hdf5\n",
      "1056/1056 [==============================] - 115s 109ms/step - loss: 4.7284\n",
      "Epoch 17/20\n",
      "1056/1056 [==============================] - ETA: 0s - loss: 4.6574\n",
      "Epoch 17: loss improved from 4.72844 to 4.65744, saving model to weights.hdf5\n",
      "1056/1056 [==============================] - 400s 379ms/step - loss: 4.6574\n",
      "Epoch 18/20\n",
      "1056/1056 [==============================] - ETA: 0s - loss: 4.5926\n",
      "Epoch 18: loss improved from 4.65744 to 4.59256, saving model to weights.hdf5\n",
      "1056/1056 [==============================] - 119s 112ms/step - loss: 4.5926\n",
      "Epoch 19/20\n",
      "1056/1056 [==============================] - ETA: 0s - loss: 4.5328\n",
      "Epoch 19: loss improved from 4.59256 to 4.53280, saving model to weights.hdf5\n",
      "1056/1056 [==============================] - 117s 110ms/step - loss: 4.5328\n",
      "Epoch 20/20\n",
      "1056/1056 [==============================] - ETA: 0s - loss: 4.4738\n",
      "Epoch 20: loss improved from 4.53280 to 4.47380, saving model to weights.hdf5\n",
      "1056/1056 [==============================] - 115s 109ms/step - loss: 4.4738\n"
     ]
    },
    {
     "data": {
      "text/plain": [
       "<keras.callbacks.History at 0x7fd6c907b070>"
      ]
     },
     "execution_count": 12,
     "metadata": {},
     "output_type": "execute_result"
    }
   ],
   "source": [
    "model.fit(X, y, epochs = 20, batch_size= 128, callbacks = callbacks_list)"
   ]
  },
  {
   "cell_type": "code",
   "execution_count": 13,
   "id": "02013b53",
   "metadata": {},
   "outputs": [],
   "source": [
    "def generate_seq(model, tokenizer, enter_text, n_pred):  \n",
    "    in_text, result = enter_text, enter_text  # \n",
    "    # generate a fixed number of words\n",
    "    for _ in range(n_pred):\n",
    "        # encode the text as integer\n",
    "        encoded = tokenizer.texts_to_sequences([in_text.split()])\n",
    "        encoded = np.array(encoded)\n",
    "        \n",
    "        # predict a word in the vocabulary\n",
    "        ## yhat = model.predict_classes(encoded)\n",
    "        predict_val = model.predict(encoded)\n",
    "        yhat = np.argmax(predict_val, axis=-1)\n",
    "        print(predict_val.shape)\n",
    "\n",
    "        \n",
    "        # map predicted word index to word\n",
    "        out_word = \"\"\n",
    "        for word, index in tokenizer.word_index.items():\n",
    "            if index == yhat:\n",
    "                out_word = word\n",
    "                break\n",
    "        # append to input\n",
    "        in_text, result = out_word, result + \" \" + out_word\n",
    "        \n",
    "    return result\n"
   ]
  },
  {
   "cell_type": "code",
   "execution_count": 14,
   "id": "6c1a5f15",
   "metadata": {
    "scrolled": true
   },
   "outputs": [
    {
     "name": "stderr",
     "output_type": "stream",
     "text": [
      "2023-12-20 12:37:57.753483: I tensorflow/core/common_runtime/executor.cc:1197] [/device:CPU:0] (DEBUG INFO) Executor start aborting (this does not indicate an error and you can ignore this message): INVALID_ARGUMENT: You must feed a value for placeholder tensor 'gradients/split_2_grad/concat/split_2/split_dim' with dtype int32\n",
      "\t [[{{node gradients/split_2_grad/concat/split_2/split_dim}}]]\n",
      "2023-12-20 12:37:57.755366: I tensorflow/core/common_runtime/executor.cc:1197] [/device:CPU:0] (DEBUG INFO) Executor start aborting (this does not indicate an error and you can ignore this message): INVALID_ARGUMENT: You must feed a value for placeholder tensor 'gradients/split_grad/concat/split/split_dim' with dtype int32\n",
      "\t [[{{node gradients/split_grad/concat/split/split_dim}}]]\n",
      "2023-12-20 12:37:57.757452: I tensorflow/core/common_runtime/executor.cc:1197] [/device:CPU:0] (DEBUG INFO) Executor start aborting (this does not indicate an error and you can ignore this message): INVALID_ARGUMENT: You must feed a value for placeholder tensor 'gradients/split_1_grad/concat/split_1/split_dim' with dtype int32\n",
      "\t [[{{node gradients/split_1_grad/concat/split_1/split_dim}}]]\n",
      "2023-12-20 12:37:57.941007: I tensorflow/core/common_runtime/executor.cc:1197] [/device:CPU:0] (DEBUG INFO) Executor start aborting (this does not indicate an error and you can ignore this message): INVALID_ARGUMENT: You must feed a value for placeholder tensor 'gradients/split_2_grad/concat/split_2/split_dim' with dtype int32\n",
      "\t [[{{node gradients/split_2_grad/concat/split_2/split_dim}}]]\n",
      "2023-12-20 12:37:57.942260: I tensorflow/core/common_runtime/executor.cc:1197] [/device:CPU:0] (DEBUG INFO) Executor start aborting (this does not indicate an error and you can ignore this message): INVALID_ARGUMENT: You must feed a value for placeholder tensor 'gradients/split_grad/concat/split/split_dim' with dtype int32\n",
      "\t [[{{node gradients/split_grad/concat/split/split_dim}}]]\n",
      "2023-12-20 12:37:57.943563: I tensorflow/core/common_runtime/executor.cc:1197] [/device:CPU:0] (DEBUG INFO) Executor start aborting (this does not indicate an error and you can ignore this message): INVALID_ARGUMENT: You must feed a value for placeholder tensor 'gradients/split_1_grad/concat/split_1/split_dim' with dtype int32\n",
      "\t [[{{node gradients/split_1_grad/concat/split_1/split_dim}}]]\n"
     ]
    },
    {
     "name": "stdout",
     "output_type": "stream",
     "text": [
      "1/1 [==============================] - 1s 735ms/step\n",
      "(1, 9272)\n"
     ]
    },
    {
     "name": "stderr",
     "output_type": "stream",
     "text": [
      "2023-12-20 12:37:58.402954: I tensorflow/core/common_runtime/executor.cc:1197] [/device:CPU:0] (DEBUG INFO) Executor start aborting (this does not indicate an error and you can ignore this message): INVALID_ARGUMENT: You must feed a value for placeholder tensor 'gradients/split_2_grad/concat/split_2/split_dim' with dtype int32\n",
      "\t [[{{node gradients/split_2_grad/concat/split_2/split_dim}}]]\n",
      "2023-12-20 12:37:58.404826: I tensorflow/core/common_runtime/executor.cc:1197] [/device:CPU:0] (DEBUG INFO) Executor start aborting (this does not indicate an error and you can ignore this message): INVALID_ARGUMENT: You must feed a value for placeholder tensor 'gradients/split_grad/concat/split/split_dim' with dtype int32\n",
      "\t [[{{node gradients/split_grad/concat/split/split_dim}}]]\n",
      "2023-12-20 12:37:58.405917: I tensorflow/core/common_runtime/executor.cc:1197] [/device:CPU:0] (DEBUG INFO) Executor start aborting (this does not indicate an error and you can ignore this message): INVALID_ARGUMENT: You must feed a value for placeholder tensor 'gradients/split_1_grad/concat/split_1/split_dim' with dtype int32\n",
      "\t [[{{node gradients/split_1_grad/concat/split_1/split_dim}}]]\n",
      "2023-12-20 12:37:58.581861: I tensorflow/core/common_runtime/executor.cc:1197] [/device:CPU:0] (DEBUG INFO) Executor start aborting (this does not indicate an error and you can ignore this message): INVALID_ARGUMENT: You must feed a value for placeholder tensor 'gradients/split_2_grad/concat/split_2/split_dim' with dtype int32\n",
      "\t [[{{node gradients/split_2_grad/concat/split_2/split_dim}}]]\n",
      "2023-12-20 12:37:58.583058: I tensorflow/core/common_runtime/executor.cc:1197] [/device:CPU:0] (DEBUG INFO) Executor start aborting (this does not indicate an error and you can ignore this message): INVALID_ARGUMENT: You must feed a value for placeholder tensor 'gradients/split_grad/concat/split/split_dim' with dtype int32\n",
      "\t [[{{node gradients/split_grad/concat/split/split_dim}}]]\n",
      "2023-12-20 12:37:58.584444: I tensorflow/core/common_runtime/executor.cc:1197] [/device:CPU:0] (DEBUG INFO) Executor start aborting (this does not indicate an error and you can ignore this message): INVALID_ARGUMENT: You must feed a value for placeholder tensor 'gradients/split_1_grad/concat/split_1/split_dim' with dtype int32\n",
      "\t [[{{node gradients/split_1_grad/concat/split_1/split_dim}}]]\n"
     ]
    },
    {
     "name": "stdout",
     "output_type": "stream",
     "text": [
      "1/1 [==============================] - 1s 590ms/step\n",
      "(1, 9272)\n",
      "1/1 [==============================] - 0s 18ms/step\n",
      "(1, 9272)\n",
      "my fellow americans it is time to stand together and medicare the world\n"
     ]
    }
   ],
   "source": [
    "input_seed = \"my fellow americans it is time to stand together and\"\n",
    "print(generate_seq(model, tokenizer_obj, input_seed, 3))"
   ]
  }
 ],
 "metadata": {
  "kernelspec": {
   "display_name": "Python 3 (ipykernel)",
   "language": "python",
   "name": "python3"
  },
  "language_info": {
   "codemirror_mode": {
    "name": "ipython",
    "version": 3
   },
   "file_extension": ".py",
   "mimetype": "text/x-python",
   "name": "python",
   "nbconvert_exporter": "python",
   "pygments_lexer": "ipython3",
   "version": "3.8.17"
  }
 },
 "nbformat": 4,
 "nbformat_minor": 5
}
